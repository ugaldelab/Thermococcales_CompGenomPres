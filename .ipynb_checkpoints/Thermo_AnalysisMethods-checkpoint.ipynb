{
 "cells": [
  {
   "cell_type": "markdown",
   "metadata": {},
   "source": [
    "This notebook contains the notes for the analysis of the Thermococales genomes.\n",
    "\n",
    "There are three folders with this notebook:\n",
    "- data: which contains most of the raw data needed for the analysis\n",
    "- analysis: containing post-processing of the raw genome data used\n",
    "- scripts: the scripts used in the analysis. This is a copy of a previous Github repository, but to keep the scripts consistent with the analysis, I added a local copy in here.\n",
    "\n",
    "Requirements:\n",
    "- Blast+\n",
    "- Fastortho\n",
    "\n",
    "All the genomes were downloaded from JGI, from the Globus website. Only one genome (_Thermococcus eurythermalis_) was downloaded from NCBI in GBK format. All the data is available in the data folder, under img_genomes and ncbi_genomes\n",
    "\n",
    "First, we need to process the genomes to be able to use them for the ortholog search, and further processing"
   ]
  },
  {
   "cell_type": "code",
   "execution_count": 3,
   "metadata": {
    "collapsed": false
   },
   "outputs": [
    {
     "name": "stdout",
     "output_type": "stream",
     "text": [
      "usage: PrepareMCLgenomes_fromGBK_Genbank.py [-h] -g GBK_LIST -i INPUT_FOLDER -o OUTPUT_DIRECTORY\n",
      "PrepareMCLgenomes_fromGBK_Genbank.py: error: argument -g/--gbk_list is required\n",
      "Teurythermalis\tTeurythermalis\n"
     ]
    }
   ],
   "source": [
    "!python scripts/PrepareMCLgenomes_fromGBK_Genbank.py\n",
    "!cat data/list_ncbi_genomes.txt"
   ]
  },
  {
   "cell_type": "code",
   "execution_count": 4,
   "metadata": {
    "collapsed": false
   },
   "outputs": [
    {
     "name": "stdout",
     "output_type": "stream",
     "text": [
      "usage: PrepareGenomeData.py [-h] -g GENOME_LIST -i INPUT_FOLDER -s GENOME_SOURCE -o OUTPUT_DIRECTORY\n",
      "PrepareGenomeData.py: error: argument -g/--genome_list is required\n",
      "644736411\tThermococcus gammatolerans EJ3\tTgammaEJ3\n",
      "644736412\tThermococcus sibiricus MM 739\tTsibiriMM739\n",
      "2545824513\tThermococcus sp. Strain 175 (First SPAdes assembly of Thermococcus sp. Strain 175)\tTsp175\n",
      "643348580\tThermococcus onnurineus NA1\tTonnuNA1\n",
      "650716097\tThermococcus sp. 4557\tTsp4557\n",
      "2501025505\tPalaeococcus ferrophilus DMJ, DSM 13482\tPferroDSM13482\n",
      "2521172719\tPyrococcus sp. ST04\tPspST04\n",
      "2513237398\tThermococcus litoralis DSM 5473\tTlitoDSM5473\n",
      "2511231053\tThermococcus sp. AM4\tTspAM4\n",
      "638154520\tThermococcus kodakarensis KOD1\tTkodKOD1\n",
      "650716096\tThermococcus barophilus MP, DSM 11836\tTbaroDSM11836\n",
      "638154516\tPyrococcus horikoshii OT3\tPhorikoOT3\n",
      "2510065005\tThermococcus sp. PK\tTspPK\n",
      "638154514\tPyrococcus abyssi GE5\tPabyGE5\n",
      "2517093039\tPyrococcus furiosus COM1\tPfurCOM1\n",
      "2518645553\tThermococcus sp. CL1\tTspCL1\n",
      "650716079\tPyrococcus sp. NA2\tPspNA2\n",
      "650716080\tPyrococcus yayanosii CH1\tPyayaCH1\n",
      "638154515\tPyrococcus furiosus DSM 3638\tPfurDSM3638\n"
     ]
    }
   ],
   "source": [
    "!python scripts/PrepareGenomeData.py\n",
    "!cat data/list_img_genomes.txt"
   ]
  },
  {
   "cell_type": "code",
   "execution_count": 5,
   "metadata": {
    "collapsed": true
   },
   "outputs": [],
   "source": [
    "#Prepare ncbi genomes\n",
    "#!python scripts/PrepareMCLgenomes_fromGBK_Genbank.py -g data/list_ncbi_genomes.txt -i data/ncbi_genomes/ -o data/processed_genomes/\n",
    "#Prepare img genomes\n",
    "#!python scripts/PrepareGenomeData.py -g data/list_img_genomes.txt -i data/img_genomes/ -o data/processed_genomes -s img"
   ]
  },
  {
   "cell_type": "markdown",
   "metadata": {},
   "source": [
    "Now we create the necessary files for the blast search"
   ]
  },
  {
   "cell_type": "code",
   "execution_count": 6,
   "metadata": {
    "collapsed": false
   },
   "outputs": [
    {
     "name": "stdout",
     "output_type": "stream",
     "text": [
      "\n",
      "\n",
      "Building a new DB, current time: 09/08/2015 17:07:21\n",
      "New DB name:   analysis/blast/All_proteins.faa\n",
      "New DB title:  analysis/blast/All_proteins.faa\n",
      "Sequence type: Protein\n",
      "Keep Linkouts: T\n",
      "Keep MBits: T\n",
      "Maximum file size: 1000000000B\n",
      "Adding sequences from FASTA; added 43069 sequences in 1.73347 seconds.\n"
     ]
    }
   ],
   "source": [
    "%%bash\n",
    "mkdir analysis/blast\n",
    "cat data/processed_genomes/protein/*.fasta > analysis/blast/All_proteins.faa\n",
    "makeblastdb -in analysis/blast/All_proteins.faa -dbtype prot"
   ]
  },
  {
   "cell_type": "code",
   "execution_count": 1,
   "metadata": {
    "collapsed": true
   },
   "outputs": [],
   "source": [
    "#Run Blastp"
   ]
  },
  {
   "cell_type": "markdown",
   "metadata": {},
   "source": [
    "### Running Fastortho\n",
    "\n",
    "I used Fastortho (a reimplementation of OrthoMCL) to search for orthologous genes among the processed genomes. To run the program, I need to create an option file that will contain the parameters used for the software."
   ]
  },
  {
   "cell_type": "code",
   "execution_count": 6,
   "metadata": {
    "collapsed": false
   },
   "outputs": [],
   "source": [
    "%%bash\n",
    "mkdir analysis/fastortho\n",
    "\n",
    "echo --mcl_path /usr/local/bin/mcl >> analysis/fastortho/option_file.txt\n",
    "echo --working_directory /Users/jugalde/Documents/Research/Thermococcales_CompGenomPres/analysis/fastortho >> analysis/fastortho/option_file.txt\n",
    "echo --project_name Thermo_090915 >> analysis/fastortho/option_file.txt\n",
    "echo --blast_file /Users/jugalde/Documents/Research/Thermococcales_CompGenomPres/analysis/blast/blastp.Thermo_090815 >> analysis/fastortho/option_file.txt\n",
    "\n",
    "for entry in `ls -d -1 $PWD/data/processed_genomes/protein/*.*`; do echo --single_genome_fasta $entry; done >> analysis/fastortho/option_file.txt\n"
   ]
  },
  {
   "cell_type": "code",
   "execution_count": 7,
   "metadata": {
    "collapsed": false
   },
   "outputs": [
    {
     "name": "stdout",
     "output_type": "stream",
     "text": [
      "--mcl_path /usr/local/bin/mcl\n",
      "--working_directory /Users/jugalde/Documents/Research/Thermococcales_CompGenomPres/analysis/fastortho\n",
      "--project_name Thermo_090915\n",
      "--blast_file /Users/jugalde/Documents/Research/Thermococcales_CompGenomPres/analysis/blast/blastp.Thermo_090815\n",
      "--single_genome_fasta /Users/jugalde/Documents/Research/Thermococcales_CompGenomPres/data/processed_genomes/protein/PabyGE5.fasta\n",
      "--single_genome_fasta /Users/jugalde/Documents/Research/Thermococcales_CompGenomPres/data/processed_genomes/protein/PferroDSM13482.fasta\n",
      "--single_genome_fasta /Users/jugalde/Documents/Research/Thermococcales_CompGenomPres/data/processed_genomes/protein/PfurCOM1.fasta\n",
      "--single_genome_fasta /Users/jugalde/Documents/Research/Thermococcales_CompGenomPres/data/processed_genomes/protein/PfurDSM3638.fasta\n",
      "--single_genome_fasta /Users/jugalde/Documents/Research/Thermococcales_CompGenomPres/data/processed_genomes/protein/PhorikoOT3.fasta\n",
      "--single_genome_fasta /Users/jugalde/Documents/Research/Thermococcales_CompGenomPres/data/processed_genomes/protein/PspNA2.fasta\n",
      "--single_genome_fasta /Users/jugalde/Documents/Research/Thermococcales_CompGenomPres/data/processed_genomes/protein/PspST04.fasta\n",
      "--single_genome_fasta /Users/jugalde/Documents/Research/Thermococcales_CompGenomPres/data/processed_genomes/protein/PyayaCH1.fasta\n",
      "--single_genome_fasta /Users/jugalde/Documents/Research/Thermococcales_CompGenomPres/data/processed_genomes/protein/TbaroDSM11836.fasta\n",
      "--single_genome_fasta /Users/jugalde/Documents/Research/Thermococcales_CompGenomPres/data/processed_genomes/protein/Teurythermalis.fasta\n",
      "--single_genome_fasta /Users/jugalde/Documents/Research/Thermococcales_CompGenomPres/data/processed_genomes/protein/TgammaEJ3.fasta\n",
      "--single_genome_fasta /Users/jugalde/Documents/Research/Thermococcales_CompGenomPres/data/processed_genomes/protein/TkodKOD1.fasta\n",
      "--single_genome_fasta /Users/jugalde/Documents/Research/Thermococcales_CompGenomPres/data/processed_genomes/protein/TlitoDSM5473.fasta\n",
      "--single_genome_fasta /Users/jugalde/Documents/Research/Thermococcales_CompGenomPres/data/processed_genomes/protein/TonnuNA1.fasta\n",
      "--single_genome_fasta /Users/jugalde/Documents/Research/Thermococcales_CompGenomPres/data/processed_genomes/protein/TsibiriMM739.fasta\n",
      "--single_genome_fasta /Users/jugalde/Documents/Research/Thermococcales_CompGenomPres/data/processed_genomes/protein/Tsp175.fasta\n",
      "--single_genome_fasta /Users/jugalde/Documents/Research/Thermococcales_CompGenomPres/data/processed_genomes/protein/Tsp4557.fasta\n",
      "--single_genome_fasta /Users/jugalde/Documents/Research/Thermococcales_CompGenomPres/data/processed_genomes/protein/TspAM4.fasta\n",
      "--single_genome_fasta /Users/jugalde/Documents/Research/Thermococcales_CompGenomPres/data/processed_genomes/protein/TspCL1.fasta\n",
      "--single_genome_fasta /Users/jugalde/Documents/Research/Thermococcales_CompGenomPres/data/processed_genomes/protein/TspPK.fasta\n"
     ]
    }
   ],
   "source": [
    "%%bash\n",
    "cat analysis/fastortho/option_file.txt"
   ]
  },
  {
   "cell_type": "markdown",
   "metadata": {},
   "source": [
    "Now we can run the FastOrtho analysis"
   ]
  },
  {
   "cell_type": "code",
   "execution_count": 8,
   "metadata": {
    "collapsed": false
   },
   "outputs": [
    {
     "name": "stdout",
     "output_type": "stream",
     "text": [
      "which /usr/local/bin/mcl\n",
      "/usr/local/bin/mcl\n",
      " 1.00 to classify blast hits\n",
      " 1.00 to prepare classified hits for mcl\n",
      "/usr/local/bin/mcl /Users/jugalde/Documents/Research/Thermococcales_CompGenomPres/analysis/fastortho/Thermo_090915.mtx -I 1.5 -o /Users/jugalde/Documents/Research/Thermococcales_CompGenomPres/analysis/fastortho/Thermo_090915.ocl\n",
      "gene count = 40471 in 20 taxons\n",
      " 3.00 to run mcl and convert its output\n",
      " 5.00 total duration\n"
     ]
    },
    {
     "name": "stderr",
     "output_type": "stream",
     "text": [
      "[mclIO] reading </Users/jugalde/Documents/Research/Thermococcales_CompGenomPres/analysis/fastortho/Thermo_090915.mtx>\n",
      ".......................................\n",
      "[mclIO] read native interchange 40471x40471 matrix with 588878 entries\n",
      "[mcl] pid 17814\n",
      " ite -------------------  chaos  time hom(avg,lo,hi) m-ie m-ex i-ex fmv\n",
      "  1  ...................  11.84  0.14 0.99/0.12/2.84 1.11 1.11 1.11   0\n",
      "  2  ...................  12.28  0.16 0.95/0.25/2.86 1.17 1.06 1.18   0\n",
      "  3  ...................  11.51  0.19 0.92/0.31/2.90 1.11 0.97 1.14   0\n",
      "  4  ...................  11.42  0.17 0.88/0.23/2.93 1.08 0.96 1.10   0\n",
      "  5  ...................   9.93  0.16 0.83/0.25/2.57 1.05 0.97 1.06   0\n",
      "  6  ...................   5.94  0.15 0.78/0.21/1.82 1.03 0.97 1.03   0\n",
      "  7  ...................   6.25  0.13 0.73/0.23/1.30 1.01 0.97 1.01   0\n",
      "  8  ...................   6.47  0.13 0.68/0.13/1.19 1.01 0.97 0.97   0\n",
      "  9  ...................  11.50  0.12 0.64/0.12/1.19 1.00 0.95 0.93   0\n",
      " 10  ...................  14.01  0.11 0.63/0.23/1.00 1.00 0.92 0.86   0\n",
      " 11  ...................  11.26  0.10 0.65/0.25/1.07 1.00 0.89 0.76   0\n",
      " 12  ...................   5.72  0.08 0.70/0.26/1.43 1.00 0.85 0.65   0\n",
      " 13  ...................   4.82  0.07 0.76/0.31/1.00 1.00 0.81 0.52   0\n",
      " 14  ...................   4.02  0.05 0.83/0.36/1.00 1.00 0.75 0.39   0\n",
      " 15  ...................   3.36  0.04 0.88/0.44/1.00 1.00 0.70 0.28   0\n",
      " 16  ...................   2.46  0.03 0.92/0.47/1.00 1.00 0.66 0.18   0\n",
      " 17  ...................   1.87  0.02 0.95/0.53/1.00 1.00 0.73 0.13   0\n",
      " 18  ...................   1.32  0.02 0.97/0.54/1.00 1.00 0.83 0.11   0\n",
      " 19  ...................   0.75  0.01 0.98/0.61/1.00 1.00 0.86 0.10   0\n",
      " 20  ...................   0.51  0.01 0.99/0.64/1.00 1.00 0.89 0.09   0\n",
      " 21  ...................   0.49  0.01 0.99/0.63/1.00 1.00 0.93 0.08   0\n",
      " 22  ...................   0.48  0.01 1.00/0.65/1.00 1.00 0.95 0.08   0\n",
      " 23  ...................   0.45  0.01 1.00/0.67/1.00 1.00 0.96 0.07   0\n",
      " 24  ...................   0.46  0.01 1.00/0.67/1.00 1.00 0.98 0.07   0\n",
      " 25  ...................   0.43  0.01 1.00/0.69/1.00 1.00 0.99 0.07   0\n",
      " 26  ...................   0.50  0.01 1.00/0.63/1.00 1.00 0.99 0.07   0\n",
      " 27  ...................   0.45  0.01 1.00/0.68/1.00 1.00 1.00 0.07   0\n",
      " 28  ...................   0.30  0.01 1.00/0.76/1.00 1.00 1.00 0.07   0\n",
      " 29  ...................   0.22  0.01 1.00/0.79/1.00 1.00 1.00 0.07   0\n",
      " 30  ...................   0.24  0.01 1.00/0.79/1.00 1.00 1.00 0.07   0\n",
      " 31  ...................   0.25  0.01 1.00/0.76/1.00 1.00 1.00 0.07   0\n",
      " 32  ...................   0.25  0.01 1.00/0.76/1.00 1.00 1.00 0.07   0\n",
      " 33  ...................   0.24  0.01 1.00/0.77/1.00 1.00 1.00 0.07   0\n",
      " 34  ...................   0.25  0.01 1.00/0.76/1.00 1.00 1.00 0.07   0\n",
      " 35  ...................   0.24  0.01 1.00/0.78/1.00 1.00 1.00 0.07   0\n",
      " 36  ...................   0.25  0.01 1.00/0.76/1.00 1.00 1.00 0.07   0\n",
      " 37  ...................   0.21  0.01 1.00/0.80/1.00 1.00 1.00 0.07   0\n",
      " 38  ...................   0.11  0.01 1.00/0.89/1.00 1.00 1.00 0.07   0\n",
      " 39  ...................   0.03  0.01 1.00/0.97/1.00 1.00 1.00 0.07   0\n",
      " 40  ...................   0.00  0.01 1.00/1.00/1.00 1.00 1.00 0.07   0\n",
      " 41  ...................   0.00  0.01 1.00/1.00/1.00 1.00 1.00 0.07   0\n",
      " 42  ...................   0.00  0.01 1.00/1.00/1.00 1.00 1.00 0.07   0\n",
      "[mcl] jury pruning marks: <99,99,99>, out of 100\n",
      "[mcl] jury pruning synopsis: <99.0 or perfect> (cf -scheme, -do log)\n",
      "[mclIO] writing </Users/jugalde/Documents/Research/Thermococcales_CompGenomPres/analysis/fastortho/Thermo_090915.ocl>\n",
      ".......................................\n",
      "[mclIO] wrote native interchange 40471x3767 matrix with 40471 entries to stream </Users/jugalde/Documents/Research/Thermococcales_CompGenomPres/analysis/fastortho/Thermo_090915.ocl>\n",
      "[mcl] 3767 clusters found\n",
      "[mcl] output is in /Users/jugalde/Documents/Research/Thermococcales_CompGenomPres/analysis/fastortho/Thermo_090915.ocl\n",
      "\n",
      "Please cite:\n",
      "    Stijn van Dongen, Graph Clustering by Flow Simulation.  PhD thesis,\n",
      "    University of Utrecht, May 2000.\n",
      "       (  http://www.library.uu.nl/digiarchief/dip/diss/1895620/full.pdf\n",
      "       or  http://micans.org/mcl/lit/svdthesis.pdf.gz)\n",
      "OR\n",
      "    Stijn van Dongen, A cluster algorithm for graphs. Technical\n",
      "    Report INS-R0010, National Research Institute for Mathematics\n",
      "    and Computer Science in the Netherlands, Amsterdam, May 2000.\n",
      "       (  http://www.cwi.nl/ftp/CWIreports/INS/INS-R0010.ps.Z\n",
      "       or  http://micans.org/mcl/lit/INS-R0010.ps.Z)\n",
      "\n",
      "\n",
      "real\t0m5.271s\n",
      "user\t0m4.987s\n",
      "sys\t0m0.138s\n"
     ]
    }
   ],
   "source": [
    "%%bash\n",
    "time /Users/jugalde/BioApps/FastOrtho/src/FastOrtho --option_file analysis/fastortho/option_file.txt"
   ]
  },
  {
   "cell_type": "markdown",
   "metadata": {},
   "source": [
    "# Cluster Analysis"
   ]
  },
  {
   "cell_type": "code",
   "execution_count": null,
   "metadata": {
    "collapsed": true
   },
   "outputs": [],
   "source": []
  }
 ],
 "metadata": {
  "kernelspec": {
   "display_name": "Python 2",
   "language": "python",
   "name": "python2"
  },
  "language_info": {
   "codemirror_mode": {
    "name": "ipython",
    "version": 2
   },
   "file_extension": ".py",
   "mimetype": "text/x-python",
   "name": "python",
   "nbconvert_exporter": "python",
   "pygments_lexer": "ipython2",
   "version": "2.7.10"
  }
 },
 "nbformat": 4,
 "nbformat_minor": 0
}
