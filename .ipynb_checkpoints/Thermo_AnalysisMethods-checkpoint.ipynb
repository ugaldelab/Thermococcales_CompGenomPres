{
 "cells": [
  {
   "cell_type": "markdown",
   "metadata": {},
   "source": [
    "This notebook contains the notes for the analysis of the Thermococales genomes.\n",
    "\n",
    "There are three folders with this notebook:\n",
    "- data: which contains most of the raw data needed for the analysis\n",
    "- analysis: containing post-processing of the raw genome data used\n",
    "- scripts: the scripts used in the analysis. This is a copy of a previous Github repository, but to keep the scripts consistent with the analysis, I added a local copy in here.\n",
    "\n",
    "Requirements:\n",
    "- Blast+\n",
    "- Fastortho\n",
    "\n",
    "All the genomes were downloaded from JGI, from the Globus website. Only one genome (_Thermococcus eurythermalis_) was downloaded from NCBI in GBK format. All the data is available in the data folder, under img_genomes and ncbi_genomes\n",
    "\n",
    "First, we need to process the genomes to be able to use them for the ortholog search, and further processing"
   ]
  },
  {
   "cell_type": "code",
   "execution_count": 3,
   "metadata": {
    "collapsed": false
   },
   "outputs": [
    {
     "name": "stdout",
     "output_type": "stream",
     "text": [
      "usage: PrepareMCLgenomes_fromGBK_Genbank.py [-h] -g GBK_LIST -i INPUT_FOLDER -o OUTPUT_DIRECTORY\n",
      "PrepareMCLgenomes_fromGBK_Genbank.py: error: argument -g/--gbk_list is required\n",
      "Teurythermalis\tTeurythermalis\n"
     ]
    }
   ],
   "source": [
    "!python scripts/PrepareMCLgenomes_fromGBK_Genbank.py\n",
    "!cat data/list_ncbi_genomes.txt"
   ]
  },
  {
   "cell_type": "code",
   "execution_count": 4,
   "metadata": {
    "collapsed": false
   },
   "outputs": [
    {
     "name": "stdout",
     "output_type": "stream",
     "text": [
      "usage: PrepareGenomeData.py [-h] -g GENOME_LIST -i INPUT_FOLDER -s GENOME_SOURCE -o OUTPUT_DIRECTORY\n",
      "PrepareGenomeData.py: error: argument -g/--genome_list is required\n",
      "644736411\tThermococcus gammatolerans EJ3\tTgammaEJ3\n",
      "644736412\tThermococcus sibiricus MM 739\tTsibiriMM739\n",
      "2545824513\tThermococcus sp. Strain 175 (First SPAdes assembly of Thermococcus sp. Strain 175)\tTsp175\n",
      "643348580\tThermococcus onnurineus NA1\tTonnuNA1\n",
      "650716097\tThermococcus sp. 4557\tTsp4557\n",
      "2501025505\tPalaeococcus ferrophilus DMJ, DSM 13482\tPferroDSM13482\n",
      "2521172719\tPyrococcus sp. ST04\tPspST04\n",
      "2513237398\tThermococcus litoralis DSM 5473\tTlitoDSM5473\n",
      "2511231053\tThermococcus sp. AM4\tTspAM4\n",
      "638154520\tThermococcus kodakarensis KOD1\tTkodKOD1\n",
      "650716096\tThermococcus barophilus MP, DSM 11836\tTbaroDSM11836\n",
      "638154516\tPyrococcus horikoshii OT3\tPhorikoOT3\n",
      "2510065005\tThermococcus sp. PK\tTspPK\n",
      "638154514\tPyrococcus abyssi GE5\tPabyGE5\n",
      "2517093039\tPyrococcus furiosus COM1\tPfurCOM1\n",
      "2518645553\tThermococcus sp. CL1\tTspCL1\n",
      "650716079\tPyrococcus sp. NA2\tPspNA2\n",
      "650716080\tPyrococcus yayanosii CH1\tPyayaCH1\n",
      "638154515\tPyrococcus furiosus DSM 3638\tPfurDSM3638\n"
     ]
    }
   ],
   "source": [
    "!python scripts/PrepareGenomeData.py\n",
    "!cat data/list_img_genomes.txt"
   ]
  },
  {
   "cell_type": "code",
   "execution_count": 5,
   "metadata": {
    "collapsed": true
   },
   "outputs": [],
   "source": [
    "#Prepare ncbi genomes\n",
    "#!python scripts/PrepareMCLgenomes_fromGBK_Genbank.py -g data/list_ncbi_genomes.txt -i data/ncbi_genomes/ -o data/processed_genomes/\n",
    "#Prepare img genomes\n",
    "#!python scripts/PrepareGenomeData.py -g data/list_img_genomes.txt -i data/img_genomes/ -o data/processed_genomes -s img"
   ]
  },
  {
   "cell_type": "markdown",
   "metadata": {},
   "source": [
    "Now we create the necessary files for the blast search"
   ]
  },
  {
   "cell_type": "code",
   "execution_count": 6,
   "metadata": {
    "collapsed": false
   },
   "outputs": [
    {
     "name": "stdout",
     "output_type": "stream",
     "text": [
      "\n",
      "\n",
      "Building a new DB, current time: 09/08/2015 17:07:21\n",
      "New DB name:   analysis/blast/All_proteins.faa\n",
      "New DB title:  analysis/blast/All_proteins.faa\n",
      "Sequence type: Protein\n",
      "Keep Linkouts: T\n",
      "Keep MBits: T\n",
      "Maximum file size: 1000000000B\n",
      "Adding sequences from FASTA; added 43069 sequences in 1.73347 seconds.\n"
     ]
    }
   ],
   "source": [
    "%%bash\n",
    "mkdir analysis/blast\n",
    "cat data/processed_genomes/protein/*.fasta > analysis/blast/All_proteins.faa\n",
    "makeblastdb -in analysis/blast/All_proteins.faa -dbtype prot"
   ]
  },
  {
   "cell_type": "code",
   "execution_count": null,
   "metadata": {
    "collapsed": true
   },
   "outputs": [],
   "source": []
  }
 ],
 "metadata": {
  "kernelspec": {
   "display_name": "Python 2",
   "language": "python",
   "name": "python2"
  },
  "language_info": {
   "codemirror_mode": {
    "name": "ipython",
    "version": 2
   },
   "file_extension": ".py",
   "mimetype": "text/x-python",
   "name": "python",
   "nbconvert_exporter": "python",
   "pygments_lexer": "ipython2",
   "version": "2.7.10"
  }
 },
 "nbformat": 4,
 "nbformat_minor": 0
}
